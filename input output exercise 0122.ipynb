{
 "cells": [
  {
   "cell_type": "code",
   "execution_count": null,
   "id": "7cb2a029-fd08-4e20-b1ff-3f503af4f8ce",
   "metadata": {},
   "outputs": [],
   "source": [
    "\n",
    "import tkinter as tk \n",
    "from tkinter import messagebox\n",
    "from tkinter import simpledialog\n",
    "\n",
    "user_input= simpledialog.askstring(\"input\", \"name\")\n",
    "number_input = user_input\n",
    "start= 1;\n",
    "\n",
    "for i in range (5):\n",
    "    print(f\"number{i}\")\n",
    "    \n",
    "print(user_input,\"*\",start,) \n",
    "messagebox.showinfo(\"output\",user_input)\n"
   ]
  },
  {
   "cell_type": "code",
   "execution_count": 40,
   "id": "c9b916e1-6848-4010-b074-f5de7ba0b87d",
   "metadata": {},
   "outputs": [
    {
     "ename": "SyntaxError",
     "evalue": "incomplete input (1435422752.py, line 3)",
     "output_type": "error",
     "traceback": [
      "\u001b[1;36m  Cell \u001b[1;32mIn[40], line 3\u001b[1;36m\u001b[0m\n\u001b[1;33m    print(\"hello\",\"world\"\u001b[0m\n\u001b[1;37m                         ^\u001b[0m\n\u001b[1;31mSyntaxError\u001b[0m\u001b[1;31m:\u001b[0m incomplete input\n"
     ]
    }
   ],
   "source": [
    " print(\"hello\", \"world\",123)\n",
    " print(\"hello\",\"world\",sep=\"-\")\n",
    " print(\"hello\",\"world\""
   ]
  },
  {
   "cell_type": "code",
   "execution_count": null,
   "id": "bbfd9ea8-65b6-4360-9441-b71c7e627776",
   "metadata": {},
   "outputs": [],
   "source": [
    "nam1= input(\"enter first name \\n\")\n",
    "name= input(\"enter second name \\n\")\n",
    "age= int(input(\"enter age\"))\n",
    "height= float(input(\"enter height\"))"
   ]
  },
  {
   "cell_type": "code",
   "execution_count": null,
   "id": "25cd1a13-8d43-40cb-8da6-7a36982e6599",
   "metadata": {},
   "outputs": [],
   "source": [
    "\n",
    "print(\"hello,\"+ nam1)\n",
    "print(\"you name is\",nam1,\"your age\",age,\"height \", height)"
   ]
  },
  {
   "cell_type": "code",
   "execution_count": null,
   "id": "5ece5ad2-d2f9-4d33-84fb-1d4e2c753ceb",
   "metadata": {},
   "outputs": [],
   "source": [
    "x,y= map(int,input (\"enter first number\").split())\n",
    "print (\"sum\", x+y)\n"
   ]
  },
  {
   "cell_type": "code",
   "execution_count": null,
   "id": "d5cfec9c-12cb-4ada-a22b-0436f471156a",
   "metadata": {},
   "outputs": [],
   "source": [
    "numbers= list(map(int,input (\"enter first number\").split()))\n",
    "print (\"list of number\", numbers)\n"
   ]
  },
  {
   "cell_type": "code",
   "execution_count": null,
   "id": "ff474848-d20a-405a-9ca1-caa00e39c6c3",
   "metadata": {},
   "outputs": [],
   "source": [
    "\n",
    "\n",
    "user_input= input(\"enter words separtely\")\n",
    "word_input= user_input.split()\n",
    "print(\"list of words are \", word_input) \n",
    "\n"
   ]
  },
  {
   "cell_type": "code",
   "execution_count": null,
   "id": "670508fa-c15e-4b83-9e87-bbe6d6c94825",
   "metadata": {},
   "outputs": [],
   "source": [
    "name=\"sara\"\n",
    "age=40\n",
    "\n",
    "print(f\"you name is {name} your age {age}\" )\n"
   ]
  },
  {
   "cell_type": "code",
   "execution_count": null,
   "id": "570ef1ff-801c-4ffa-9e7d-8bc9f28aeeea",
   "metadata": {},
   "outputs": [],
   "source": [
    "\n",
    "price= 540.6656546\n",
    "print(\"you name is {:.4f}\".format(price) )\n",
    "\n"
   ]
  },
  {
   "cell_type": "code",
   "execution_count": null,
   "id": "7527a188-01dd-4230-afb9-617daf5d0c99",
   "metadata": {},
   "outputs": [],
   "source": [
    "\n",
    "for i in range (5):\n",
    "    print(f\"number{i}\")\n",
    "\n"
   ]
  },
  {
   "cell_type": "code",
   "execution_count": null,
   "id": "328c2f84-9786-48dd-add5-1eafc59885f7",
   "metadata": {},
   "outputs": [],
   "source": [
    "\n",
    "import tkinter as tk \n",
    "from tkinter import simpledialog\n",
    "\n",
    "user_input= simpledialog.askstring(\"input\", \"name\")\n",
    "print(\"hello \", user_input) "
   ]
  },
  {
   "cell_type": "code",
   "execution_count": null,
   "id": "bac8ed70-0e37-4514-ba16-dcfb2aab8361",
   "metadata": {},
   "outputs": [],
   "source": [
    "import tkinter as tk \n",
    "from tkinter import messagebox\n",
    "\n",
    "messagebox.showinfo(\"outout\",\"hello\")\n"
   ]
  },
  {
   "cell_type": "code",
   "execution_count": null,
   "id": "3f33e1d8-fe55-4d17-8628-2f8cecef37b0",
   "metadata": {},
   "outputs": [],
   "source": [
    "import tkinter as tk \n",
    "from tkinter import messagebox\n",
    "from tkinter import simpledialog\n",
    "\n",
    "user_input= simpledialog.askstring(\"input\", \"name\")\n",
    "print(\"hello \", user_input) \n",
    "messagebox.showinfo(\"output\",user_input)"
   ]
  }
 ],
 "metadata": {
  "kernelspec": {
   "display_name": "Python 3 (ipykernel)",
   "language": "python",
   "name": "python3"
  },
  "language_info": {
   "codemirror_mode": {
    "name": "ipython",
    "version": 3
   },
   "file_extension": ".py",
   "mimetype": "text/x-python",
   "name": "python",
   "nbconvert_exporter": "python",
   "pygments_lexer": "ipython3",
   "version": "3.11.7"
  }
 },
 "nbformat": 4,
 "nbformat_minor": 5
}
